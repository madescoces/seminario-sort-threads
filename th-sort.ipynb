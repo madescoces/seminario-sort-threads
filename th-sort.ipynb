{
 "cells": [
  {
   "cell_type": "code",
   "execution_count": 2,
   "metadata": {},
   "outputs": [],
   "source": [
    "#%pip install numpy matplotlib\n",
    "#Importamos las librerias necesirias\n",
    "from functions import gaussianRandom as gss\n",
    "from sort import MergeSort\n",
    "from sort import BubbleSort\n",
    "from sort import QuickSort\n",
    "\n",
    "import matplotlib.pyplot as plt"
   ]
  },
  {
   "cell_type": "code",
   "execution_count": 3,
   "metadata": {},
   "outputs": [],
   "source": [
    "data = gss(50000)"
   ]
  },
  {
   "cell_type": "code",
   "execution_count": 4,
   "metadata": {},
   "outputs": [
    {
     "data": {
      "text/plain": [
       "[-0.2395468779831672,\n",
       " -0.9033618368987788,\n",
       " 0.7411900410484428,\n",
       " -0.18369016587992582,\n",
       " -0.7220344706214651,\n",
       " 0.061472307939259785,\n",
       " -0.9265798028856999,\n",
       " 0.004661717109875643,\n",
       " 0.7060608440054706,\n",
       " 0.9967577070869029]"
      ]
     },
     "execution_count": 4,
     "metadata": {},
     "output_type": "execute_result"
    }
   ],
   "source": [
    "# Visualización de algunos valores\n",
    "data[:10]"
   ]
  },
  {
   "cell_type": "code",
   "execution_count": 5,
   "metadata": {},
   "outputs": [
    {
     "data": {
      "image/png": "[encoded data removed]",
      "text/plain": [
       "<Figure size 640x480 with 1 Axes>"
      ]
     },
     "metadata": {},
     "output_type": "display_data"
    }
   ],
   "source": [
    "# Visualizar Gráficamente la distribución gaussiana\n",
    "plt.hist(data, bins=200, density=True, alpha=0.75)\n",
    "plt.title('Distribución Gaussiana')\n",
    "plt.show()"
   ]
  },
  {
   "cell_type": "code",
   "execution_count": 6,
   "metadata": {},
   "outputs": [
    {
     "data": {
      "text/plain": [
       "[-4.406707517601435,\n",
       " -4.1783910123193255,\n",
       " -4.072737299182859,\n",
       " -4.029472219914315,\n",
       " -3.8638296434463095,\n",
       " -3.827572151449243,\n",
       " -3.805049051487699,\n",
       " -3.7504031170614875,\n",
       " -3.7324803782630775,\n",
       " -3.64749353229078,\n",
       " -3.633301543352658,\n",
       " -3.5983434729110484,\n",
       " -3.532603457368388,\n",
       " -3.5256945221882776,\n",
       " -3.4940507150454962,\n",
       " -3.484221902533988,\n",
       " -3.472110171173457,\n",
       " -3.4590089831207704,\n",
       " -3.4096077332391843,\n",
       " -3.4072151577255103]"
      ]
     },
     "execution_count": 6,
     "metadata": {},
     "output_type": "execute_result"
    }
   ],
   "source": [
    "th2_merge_sort = MergeSort(threads=2).run(data)\n",
    "th2_merge_sort[:20]"
   ]
  },
  {
   "cell_type": "code",
   "execution_count": 7,
   "metadata": {},
   "outputs": [
    {
     "data": {
      "text/plain": [
       "[-4.406707517601435,\n",
       " -4.1783910123193255,\n",
       " -4.072737299182859,\n",
       " -4.029472219914315,\n",
       " -3.8638296434463095,\n",
       " -3.827572151449243,\n",
       " -3.805049051487699,\n",
       " -3.7504031170614875,\n",
       " -3.7324803782630775,\n",
       " -3.64749353229078,\n",
       " -3.633301543352658,\n",
       " -3.5983434729110484,\n",
       " -3.532603457368388,\n",
       " -3.5256945221882776,\n",
       " -3.4940507150454962,\n",
       " -3.484221902533988,\n",
       " -3.472110171173457,\n",
       " -3.4590089831207704,\n",
       " -3.4096077332391843,\n",
       " -3.4072151577255103]"
      ]
     },
     "execution_count": 7,
     "metadata": {},
     "output_type": "execute_result"
    }
   ],
   "source": [
    "th4_merge_sort = MergeSort(threads = 4).run(data)\n",
    "th4_merge_sort[:20]"
   ]
  },
  {
   "cell_type": "code",
   "execution_count": 8,
   "metadata": {},
   "outputs": [
    {
     "data": {
      "text/plain": [
       "[-4.406707517601435,\n",
       " -4.1783910123193255,\n",
       " -4.072737299182859,\n",
       " -4.029472219914315,\n",
       " -3.8638296434463095,\n",
       " -3.827572151449243,\n",
       " -3.805049051487699,\n",
       " -3.7504031170614875,\n",
       " -3.7324803782630775,\n",
       " -3.64749353229078,\n",
       " -3.633301543352658,\n",
       " -3.5983434729110484,\n",
       " -3.532603457368388,\n",
       " -3.5256945221882776,\n",
       " -3.4940507150454962,\n",
       " -3.484221902533988,\n",
       " -3.472110171173457,\n",
       " -3.4590089831207704,\n",
       " -3.4096077332391843,\n",
       " -3.4072151577255103]"
      ]
     },
     "execution_count": 8,
     "metadata": {},
     "output_type": "execute_result"
    }
   ],
   "source": [
    "th6_merge_sort = MergeSort(threads=6).run(data)\n",
    "th6_merge_sort[:20]"
   ]
  },
  {
   "cell_type": "code",
   "execution_count": 9,
   "metadata": {},
   "outputs": [
    {
     "data": {
      "text/plain": [
       "[-4.406707517601435,\n",
       " -4.1783910123193255,\n",
       " -4.072737299182859,\n",
       " -4.029472219914315,\n",
       " -3.8638296434463095,\n",
       " -3.827572151449243,\n",
       " -3.805049051487699,\n",
       " -3.7504031170614875,\n",
       " -3.7324803782630775,\n",
       " -3.64749353229078,\n",
       " -3.633301543352658,\n",
       " -3.5983434729110484,\n",
       " -3.532603457368388,\n",
       " -3.5256945221882776,\n",
       " -3.4940507150454962,\n",
       " -3.484221902533988,\n",
       " -3.472110171173457,\n",
       " -3.4590089831207704,\n",
       " -3.4096077332391843,\n",
       " -3.4072151577255103]"
      ]
     },
     "execution_count": 9,
     "metadata": {},
     "output_type": "execute_result"
    }
   ],
   "source": [
    "th2_quick_sort = QuickSort(threads = 2).run(data)\n",
    "th2_quick_sort[:20]"
   ]
  },
  {
   "cell_type": "code",
   "execution_count": 10,
   "metadata": {},
   "outputs": [
    {
     "data": {
      "text/plain": [
       "[-4.406707517601435,\n",
       " -4.1783910123193255,\n",
       " -4.072737299182859,\n",
       " -4.029472219914315,\n",
       " -3.8638296434463095,\n",
       " -3.827572151449243,\n",
       " -3.805049051487699,\n",
       " -3.7504031170614875,\n",
       " -3.7324803782630775,\n",
       " -3.64749353229078,\n",
       " -3.633301543352658,\n",
       " -3.5983434729110484,\n",
       " -3.532603457368388,\n",
       " -3.5256945221882776,\n",
       " -3.4940507150454962,\n",
       " -3.484221902533988,\n",
       " -3.472110171173457,\n",
       " -3.4590089831207704,\n",
       " -3.4096077332391843,\n",
       " -3.4072151577255103]"
      ]
     },
     "execution_count": 10,
     "metadata": {},
     "output_type": "execute_result"
    }
   ],
   "source": [
    "th4_quick_sort = QuickSort(threads = 4).run(data)\n",
    "th4_quick_sort[:20]"
   ]
  },
  {
   "cell_type": "code",
   "execution_count": 11,
   "metadata": {},
   "outputs": [
    {
     "data": {
      "text/plain": [
       "[-4.406707517601435,\n",
       " -4.1783910123193255,\n",
       " -4.072737299182859,\n",
       " -4.029472219914315,\n",
       " -3.8638296434463095,\n",
       " -3.827572151449243,\n",
       " -3.805049051487699,\n",
       " -3.7504031170614875,\n",
       " -3.7324803782630775,\n",
       " -3.64749353229078,\n",
       " -3.633301543352658,\n",
       " -3.5983434729110484,\n",
       " -3.532603457368388,\n",
       " -3.5256945221882776,\n",
       " -3.4940507150454962,\n",
       " -3.484221902533988,\n",
       " -3.472110171173457,\n",
       " -3.4590089831207704,\n",
       " -3.4096077332391843,\n",
       " -3.4072151577255103]"
      ]
     },
     "execution_count": 11,
     "metadata": {},
     "output_type": "execute_result"
    }
   ],
   "source": [
    "th2_bubble_sort = BubbleSort(threads = 2).run(data)\n",
    "th2_bubble_sort[:20]"
   ]
  },
  {
   "cell_type": "code",
   "execution_count": 12,
   "metadata": {},
   "outputs": [
    {
     "data": {
      "text/plain": [
       "[-4.406707517601435,\n",
       " -4.1783910123193255,\n",
       " -4.072737299182859,\n",
       " -4.029472219914315,\n",
       " -3.8638296434463095,\n",
       " -3.827572151449243,\n",
       " -3.805049051487699,\n",
       " -3.7504031170614875,\n",
       " -3.7324803782630775,\n",
       " -3.64749353229078,\n",
       " -3.633301543352658,\n",
       " -3.5983434729110484,\n",
       " -3.532603457368388,\n",
       " -3.5256945221882776,\n",
       " -3.4940507150454962,\n",
       " -3.484221902533988,\n",
       " -3.472110171173457,\n",
       " -3.4590089831207704,\n",
       " -3.4096077332391843,\n",
       " -3.4072151577255103]"
      ]
     },
     "execution_count": 12,
     "metadata": {},
     "output_type": "execute_result"
    }
   ],
   "source": [
    "th4_bubble_sort = BubbleSort(threads = 4).run(data)\n",
    "th4_bubble_sort[:20]"
   ]
  },
  {
   "cell_type": "code",
   "execution_count": 13,
   "metadata": {},
   "outputs": [
    {
     "data": {
      "text/plain": [
       "[-4.406707517601435,\n",
       " -4.1783910123193255,\n",
       " -4.072737299182859,\n",
       " -4.029472219914315,\n",
       " -3.8638296434463095,\n",
       " -3.827572151449243,\n",
       " -3.805049051487699,\n",
       " -3.7504031170614875,\n",
       " -3.7324803782630775,\n",
       " -3.64749353229078,\n",
       " -3.633301543352658,\n",
       " -3.5983434729110484,\n",
       " -3.532603457368388,\n",
       " -3.5256945221882776,\n",
       " -3.4940507150454962,\n",
       " -3.484221902533988,\n",
       " -3.472110171173457,\n",
       " -3.4590089831207704,\n",
       " -3.4096077332391843,\n",
       " -3.4072151577255103]"
      ]
     },
     "execution_count": 13,
     "metadata": {},
     "output_type": "execute_result"
    }
   ],
   "source": [
    "th6_bubble_sort = BubbleSort(threads = 6).run(data)\n",
    "th6_bubble_sort[:20]"
   ]
  },
  {
   "cell_type": "code",
   "execution_count": 14,
   "metadata": {},
   "outputs": [
    {
     "data": {
      "text/plain": [
       "[-4.406707517601435,\n",
       " -4.1783910123193255,\n",
       " -4.072737299182859,\n",
       " -4.029472219914315,\n",
       " -3.8638296434463095,\n",
       " -3.827572151449243,\n",
       " -3.805049051487699,\n",
       " -3.7504031170614875,\n",
       " -3.7324803782630775,\n",
       " -3.64749353229078,\n",
       " -3.633301543352658,\n",
       " -3.5983434729110484,\n",
       " -3.532603457368388,\n",
       " -3.5256945221882776,\n",
       " -3.4940507150454962,\n",
       " -3.484221902533988,\n",
       " -3.472110171173457,\n",
       " -3.4590089831207704,\n",
       " -3.4096077332391843,\n",
       " -3.4072151577255103]"
      ]
     },
     "execution_count": 14,
     "metadata": {},
     "output_type": "execute_result"
    }
   ],
   "source": [
    "th12_bubble_sort = BubbleSort(threads = 12).run(data)\n",
    "th12_bubble_sort[:20]"
   ]
  },
  {
   "cell_type": "code",
   "execution_count": 15,
   "metadata": {},
   "outputs": [
    {
     "data": {
      "text/plain": [
       "[-4.406707517601435,\n",
       " -4.1783910123193255,\n",
       " -4.072737299182859,\n",
       " -4.029472219914315,\n",
       " -3.8638296434463095,\n",
       " -3.827572151449243,\n",
       " -3.805049051487699,\n",
       " -3.7504031170614875,\n",
       " -3.7324803782630775,\n",
       " -3.64749353229078,\n",
       " -3.633301543352658,\n",
       " -3.5983434729110484,\n",
       " -3.532603457368388,\n",
       " -3.5256945221882776,\n",
       " -3.4940507150454962,\n",
       " -3.484221902533988,\n",
       " -3.472110171173457,\n",
       " -3.4590089831207704,\n",
       " -3.4096077332391843,\n",
       " -3.4072151577255103]"
      ]
     },
     "execution_count": 15,
     "metadata": {},
     "output_type": "execute_result"
    }
   ],
   "source": [
    "merge_sort = MergeSort().run(data)\n",
    "merge_sort[:20]"
   ]
  },
  {
   "cell_type": "code",
   "execution_count": 16,
   "metadata": {},
   "outputs": [
    {
     "data": {
      "text/plain": [
       "[-4.406707517601435,\n",
       " -4.1783910123193255,\n",
       " -4.072737299182859,\n",
       " -4.029472219914315,\n",
       " -3.8638296434463095,\n",
       " -3.827572151449243,\n",
       " -3.805049051487699,\n",
       " -3.7504031170614875,\n",
       " -3.7324803782630775,\n",
       " -3.64749353229078,\n",
       " -3.633301543352658,\n",
       " -3.5983434729110484,\n",
       " -3.532603457368388,\n",
       " -3.5256945221882776,\n",
       " -3.4940507150454962,\n",
       " -3.484221902533988,\n",
       " -3.472110171173457,\n",
       " -3.4590089831207704,\n",
       " -3.4096077332391843,\n",
       " -3.4072151577255103]"
      ]
     },
     "execution_count": 16,
     "metadata": {},
     "output_type": "execute_result"
    }
   ],
   "source": [
    "quick_sort = QuickSort().run(data)\n",
    "quick_sort[:20]"
   ]
  },
  {
   "cell_type": "code",
   "execution_count": 17,
   "metadata": {},
   "outputs": [
    {
     "data": {
      "text/plain": [
       "[-4.406707517601435,\n",
       " -4.1783910123193255,\n",
       " -4.072737299182859,\n",
       " -4.029472219914315,\n",
       " -3.8638296434463095,\n",
       " -3.827572151449243,\n",
       " -3.805049051487699,\n",
       " -3.7504031170614875,\n",
       " -3.7324803782630775,\n",
       " -3.64749353229078,\n",
       " -3.633301543352658,\n",
       " -3.5983434729110484,\n",
       " -3.532603457368388,\n",
       " -3.5256945221882776,\n",
       " -3.4940507150454962,\n",
       " -3.484221902533988,\n",
       " -3.472110171173457,\n",
       " -3.4590089831207704,\n",
       " -3.4096077332391843,\n",
       " -3.4072151577255103]"
      ]
     },
     "execution_count": 17,
     "metadata": {},
     "output_type": "execute_result"
    }
   ],
   "source": [
    "bubble_sort = BubbleSort().run(data)\n",
    "bubble_sort[:20]"
   ]
  }
 ],
 "metadata": {
  "kernelspec": {
   "display_name": "Python 3",
   "language": "python",
   "name": "python3"
  },
  "language_info": {
   "codemirror_mode": {
    "name": "ipython",
    "version": 3
   },
   "file_extension": ".py",
   "mimetype": "text/x-python",
   "name": "python",
   "nbconvert_exporter": "python",
   "pygments_lexer": "ipython3",
   "version": "3.12.0"
  },
  "orig_nbformat": 4
 },
 "nbformat": 4,
 "nbformat_minor": 2
}
