{
 "cells": [
  {
   "cell_type": "code",
   "execution_count": 17,
   "metadata": {},
   "outputs": [],
   "source": [
    "#%pip install numpy matplotlib\n",
    "#Importamos las librerias necesirias\n",
    "from functions import gaussianRandom as gss\n",
    "from functions import sortThreaded as st\n",
    "from functions import BubbleSort\n",
    "from functions import QuickSort\n",
    "\n",
    "import matplotlib.pyplot as plt"
   ]
  },
  {
   "cell_type": "code",
   "execution_count": 18,
   "metadata": {},
   "outputs": [],
   "source": [
    "data = gss(10000000)"
   ]
  },
  {
   "cell_type": "code",
   "execution_count": 19,
   "metadata": {},
   "outputs": [
    {
     "data": {
      "text/plain": [
       "[-0.16773220157581445,\n",
       " -0.014078969887745115,\n",
       " 1.088942860995089,\n",
       " -0.0585117524980172,\n",
       " -0.1873174011998926,\n",
       " -0.3119417197073268,\n",
       " 0.4194763331899877,\n",
       " -0.20496810242036329,\n",
       " -0.3740997508065617,\n",
       " -0.2312137470295852]"
      ]
     },
     "execution_count": 19,
     "metadata": {},
     "output_type": "execute_result"
    }
   ],
   "source": [
    "# Visualización de algunos valores\n",
    "data[:10]"
   ]
  },
  {
   "cell_type": "code",
   "execution_count": 20,
   "metadata": {},
   "outputs": [
    {
     "data": {
      "image/png": "[encoded data removed]",
      "text/plain": [
       "<Figure size 640x480 with 1 Axes>"
      ]
     },
     "metadata": {},
     "output_type": "display_data"
    }
   ],
   "source": [
    "# Visualizar Gráficamente la distribución gaussiana\n",
    "plt.hist(data, bins=200, density=True, alpha=0.75)\n",
    "plt.title('Distribución Gaussiana')\n",
    "plt.show()"
   ]
  },
  {
   "cell_type": "code",
   "execution_count": 21,
   "metadata": {},
   "outputs": [
    {
     "data": {
      "text/plain": [
       "[-5.098362741995077,\n",
       " -4.984333460685868,\n",
       " -4.8949032916584105,\n",
       " -4.867949820886635,\n",
       " -4.834360881022488,\n",
       " -4.7843230213176335,\n",
       " -4.776039320236493,\n",
       " -4.714301069552335,\n",
       " -4.698259164720947,\n",
       " -4.686163670022919,\n",
       " -4.66945230594657,\n",
       " -4.64727506097322,\n",
       " -4.64019899308929,\n",
       " -4.615456595104519,\n",
       " -4.612634265606947,\n",
       " -4.60641280538561,\n",
       " -4.6057583041472725,\n",
       " -4.5975688865685616,\n",
       " -4.593712986431224,\n",
       " -4.59357497327107]"
      ]
     },
     "execution_count": 21,
     "metadata": {},
     "output_type": "execute_result"
    }
   ],
   "source": [
    "th2_merge_sort = st(data)\n",
    "th2_merge_sort[:20]"
   ]
  },
  {
   "cell_type": "code",
   "execution_count": 22,
   "metadata": {},
   "outputs": [],
   "source": [
    "th4_merge_sort = st(data,None,4)\n",
    "th4_merge_sort[:20]"
   ]
  },
  {
   "cell_type": "code",
   "execution_count": null,
   "metadata": {},
   "outputs": [
    {
     "data": {
      "text/plain": [
       "[-3.9291774739004834,\n",
       " -3.8908801939524964,\n",
       " -3.8416637102112716,\n",
       " -3.8367378769820655,\n",
       " -3.822530114714859,\n",
       " -3.7819173404390205,\n",
       " -3.7810470787933417,\n",
       " -3.7486310259340736,\n",
       " -3.693992828561037,\n",
       " -3.6675692285662516,\n",
       " -3.662164892077416,\n",
       " -3.623365934440748,\n",
       " -3.5932165330101076,\n",
       " -3.5852069892348557,\n",
       " -3.5709804100713987,\n",
       " -3.560210983033741,\n",
       " -3.542058459930713,\n",
       " -3.5207607801388985,\n",
       " -3.4940247182144697,\n",
       " -3.4900812572408357]"
      ]
     },
     "execution_count": 7,
     "metadata": {},
     "output_type": "execute_result"
    }
   ],
   "source": [
    "th6_merge_sort = st(data,None,6)\n",
    "th6_merge_sort[:20]"
   ]
  },
  {
   "cell_type": "code",
   "execution_count": null,
   "metadata": {},
   "outputs": [
    {
     "data": {
      "text/plain": [
       "[-3.9291774739004834,\n",
       " -3.8908801939524964,\n",
       " -3.8416637102112716,\n",
       " -3.8367378769820655,\n",
       " -3.822530114714859,\n",
       " -3.7819173404390205,\n",
       " -3.7810470787933417,\n",
       " -3.7486310259340736,\n",
       " -3.693992828561037,\n",
       " -3.6675692285662516,\n",
       " -3.662164892077416,\n",
       " -3.623365934440748,\n",
       " -3.5932165330101076,\n",
       " -3.5852069892348557,\n",
       " -3.5709804100713987,\n",
       " -3.560210983033741,\n",
       " -3.542058459930713,\n",
       " -3.5207607801388985,\n",
       " -3.4940247182144697,\n",
       " -3.4900812572408357]"
      ]
     },
     "execution_count": 8,
     "metadata": {},
     "output_type": "execute_result"
    }
   ],
   "source": [
    "th2_quick_sort = st(data,QuickSort())\n",
    "th2_quick_sort[:20]"
   ]
  },
  {
   "cell_type": "code",
   "execution_count": null,
   "metadata": {},
   "outputs": [
    {
     "data": {
      "text/plain": [
       "[-3.9291774739004834,\n",
       " -3.8908801939524964,\n",
       " -3.8416637102112716,\n",
       " -3.8367378769820655,\n",
       " -3.822530114714859,\n",
       " -3.7819173404390205,\n",
       " -3.7810470787933417,\n",
       " -3.7486310259340736,\n",
       " -3.693992828561037,\n",
       " -3.6675692285662516,\n",
       " -3.662164892077416,\n",
       " -3.623365934440748,\n",
       " -3.5932165330101076,\n",
       " -3.5852069892348557,\n",
       " -3.5709804100713987,\n",
       " -3.560210983033741,\n",
       " -3.542058459930713,\n",
       " -3.5207607801388985,\n",
       " -3.4940247182144697,\n",
       " -3.4900812572408357]"
      ]
     },
     "execution_count": 9,
     "metadata": {},
     "output_type": "execute_result"
    }
   ],
   "source": [
    "th4_quick_sort = st(data,QuickSort(),4)\n",
    "th4_quick_sort[:20]"
   ]
  },
  {
   "cell_type": "code",
   "execution_count": null,
   "metadata": {},
   "outputs": [],
   "source": [
    "#th2_bubble_sort = st(data,BubbleSort())\n",
    "#th2_bubble_sort[:20]"
   ]
  },
  {
   "cell_type": "code",
   "execution_count": null,
   "metadata": {},
   "outputs": [],
   "source": [
    "#th4_bubble_sort = st(data,BubbleSort(),4)\n",
    "#th4_bubble_sort[:20]"
   ]
  },
  {
   "cell_type": "code",
   "execution_count": null,
   "metadata": {},
   "outputs": [
    {
     "data": {
      "text/plain": [
       "[-3.9291774739004834,\n",
       " -3.8908801939524964,\n",
       " -3.8416637102112716,\n",
       " -3.8367378769820655,\n",
       " -3.822530114714859,\n",
       " -3.7819173404390205,\n",
       " -3.7810470787933417,\n",
       " -3.7486310259340736,\n",
       " -3.693992828561037,\n",
       " -3.6675692285662516,\n",
       " -3.662164892077416,\n",
       " -3.623365934440748,\n",
       " -3.5932165330101076,\n",
       " -3.5852069892348557,\n",
       " -3.5709804100713987,\n",
       " -3.560210983033741,\n",
       " -3.542058459930713,\n",
       " -3.5207607801388985,\n",
       " -3.4940247182144697,\n",
       " -3.4900812572408357]"
      ]
     },
     "execution_count": 12,
     "metadata": {},
     "output_type": "execute_result"
    }
   ],
   "source": [
    "# th6_bubble_sort = st(data,BubbleSort(),6)\n",
    "# th6_bubble_sort[:20]"
   ]
  },
  {
   "cell_type": "code",
   "execution_count": null,
   "metadata": {},
   "outputs": [
    {
     "data": {
      "text/plain": [
       "[-3.9291774739004834,\n",
       " -3.8908801939524964,\n",
       " -3.8416637102112716,\n",
       " -3.8367378769820655,\n",
       " -3.822530114714859,\n",
       " -3.7819173404390205,\n",
       " -3.7810470787933417,\n",
       " -3.7486310259340736,\n",
       " -3.693992828561037,\n",
       " -3.6675692285662516,\n",
       " -3.662164892077416,\n",
       " -3.623365934440748,\n",
       " -3.5932165330101076,\n",
       " -3.5852069892348557,\n",
       " -3.5709804100713987,\n",
       " -3.560210983033741,\n",
       " -3.542058459930713,\n",
       " -3.5207607801388985,\n",
       " -3.4940247182144697,\n",
       " -3.4900812572408357]"
      ]
     },
     "execution_count": 13,
     "metadata": {},
     "output_type": "execute_result"
    }
   ],
   "source": [
    "# th12_bubble_sort = st(data,BubbleSort(),12)\n",
    "# th12_bubble_sort[:20]"
   ]
  },
  {
   "cell_type": "code",
   "execution_count": null,
   "metadata": {},
   "outputs": [
    {
     "data": {
      "text/plain": [
       "[-3.9291774739004834,\n",
       " -3.8908801939524964,\n",
       " -3.8416637102112716,\n",
       " -3.8367378769820655,\n",
       " -3.822530114714859,\n",
       " -3.7819173404390205,\n",
       " -3.7810470787933417,\n",
       " -3.7486310259340736,\n",
       " -3.693992828561037,\n",
       " -3.6675692285662516,\n",
       " -3.662164892077416,\n",
       " -3.623365934440748,\n",
       " -3.5932165330101076,\n",
       " -3.5852069892348557,\n",
       " -3.5709804100713987,\n",
       " -3.560210983033741,\n",
       " -3.542058459930713,\n",
       " -3.5207607801388985,\n",
       " -3.4940247182144697,\n",
       " -3.4900812572408357]"
      ]
     },
     "execution_count": 14,
     "metadata": {},
     "output_type": "execute_result"
    }
   ],
   "source": [
    "merge_sort = st(data,None,0)\n",
    "merge_sort[:20]"
   ]
  },
  {
   "cell_type": "code",
   "execution_count": null,
   "metadata": {},
   "outputs": [
    {
     "data": {
      "text/plain": [
       "[-3.9291774739004834,\n",
       " -3.8908801939524964,\n",
       " -3.8416637102112716,\n",
       " -3.8367378769820655,\n",
       " -3.822530114714859,\n",
       " -3.7819173404390205,\n",
       " -3.7810470787933417,\n",
       " -3.7486310259340736,\n",
       " -3.693992828561037,\n",
       " -3.6675692285662516,\n",
       " -3.662164892077416,\n",
       " -3.623365934440748,\n",
       " -3.5932165330101076,\n",
       " -3.5852069892348557,\n",
       " -3.5709804100713987,\n",
       " -3.560210983033741,\n",
       " -3.542058459930713,\n",
       " -3.5207607801388985,\n",
       " -3.4940247182144697,\n",
       " -3.4900812572408357]"
      ]
     },
     "execution_count": 15,
     "metadata": {},
     "output_type": "execute_result"
    }
   ],
   "source": [
    "quick_sort = QuickSort().sortMe(data)\n",
    "quick_sort[:20]"
   ]
  },
  {
   "cell_type": "code",
   "execution_count": null,
   "metadata": {},
   "outputs": [
    {
     "ename": "KeyboardInterrupt",
     "evalue": "",
     "output_type": "error",
     "traceback": [
      "\u001b[1;31m---------------------------------------------------------------------------\u001b[0m",
      "\u001b[1;31mKeyboardInterrupt\u001b[0m                         Traceback (most recent call last)",
      "Cell \u001b[1;32mIn[16], line 1\u001b[0m\n\u001b[1;32m----> 1\u001b[0m bubble_sort \u001b[39m=\u001b[39m BubbleSort()\u001b[39m.\u001b[39;49msortMe(data)\n\u001b[0;32m      2\u001b[0m bubble_sort[:\u001b[39m20\u001b[39m]\n",
      "File \u001b[1;32mc:\\workspace\\facultad\\seminario_concurida_distribuida\\seminario-sort-threads\\functions.py:131\u001b[0m, in \u001b[0;36mBubbleSort.sortMe\u001b[1;34m(self, arr)\u001b[0m\n\u001b[0;32m    129\u001b[0m   \u001b[39mif\u001b[39;00m arr[j] \u001b[39m>\u001b[39m arr[j \u001b[39m+\u001b[39m \u001b[39m1\u001b[39m]:\n\u001b[0;32m    130\u001b[0m     swapped \u001b[39m=\u001b[39m \u001b[39mTrue\u001b[39;00m\n\u001b[1;32m--> 131\u001b[0m     arr[j], arr[j \u001b[39m+\u001b[39m \u001b[39m1\u001b[39m] \u001b[39m=\u001b[39m arr[j \u001b[39m+\u001b[39m \u001b[39m1\u001b[39m], arr[j]\n\u001b[0;32m    133\u001b[0m \u001b[39mif\u001b[39;00m \u001b[39mnot\u001b[39;00m swapped:\n\u001b[0;32m    134\u001b[0m   \u001b[39mreturn\u001b[39;00m arr\n",
      "\u001b[1;31mKeyboardInterrupt\u001b[0m: "
     ]
    }
   ],
   "source": [
    "# bubble_sort = BubbleSort().sortMe(data)\n",
    "# bubble_sort[:20]"
   ]
  }
 ],
 "metadata": {
  "kernelspec": {
   "display_name": "Python 3",
   "language": "python",
   "name": "python3"
  },
  "language_info": {
   "codemirror_mode": {
    "name": "ipython",
    "version": 3
   },
   "file_extension": ".py",
   "mimetype": "text/x-python",
   "name": "python",
   "nbconvert_exporter": "python",
   "pygments_lexer": "ipython3",
   "version": "3.12.0"
  },
  "orig_nbformat": 4
 },
 "nbformat": 4,
 "nbformat_minor": 2
}
